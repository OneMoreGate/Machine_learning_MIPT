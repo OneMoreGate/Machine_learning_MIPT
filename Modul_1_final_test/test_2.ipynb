{
 "cells": [
  {
   "cell_type": "code",
   "execution_count": 196,
   "metadata": {},
   "outputs": [],
   "source": [
    "import numpy as np\n",
    "import pandas as pd"
   ]
  },
  {
   "cell_type": "code",
   "execution_count": 197,
   "metadata": {},
   "outputs": [],
   "source": [
    "def mnk(x_,y_):\n",
    "    n = len(x_)\n",
    "    a = (n * np.dot(x_, y_) - np.sum(x_) * np.sum(y_)) / (n * np.sum(x_ ** 2) - np.sum(x_) ** 2)\n",
    "    b = (np.sum(y_) - a * np.sum(x_)) / n\n",
    "    return a,b"
   ]
  },
  {
   "cell_type": "code",
   "execution_count": 198,
   "metadata": {},
   "outputs": [
    {
     "data": {
      "text/plain": [
       "0.0"
      ]
     },
     "execution_count": 198,
     "metadata": {},
     "output_type": "execute_result"
    }
   ],
   "source": [
    "x_ = np.linspace(1, 10, 10)\n",
    "y_ = np.linspace(1, 10, 10)\n",
    "\n",
    "n = len(x_)\n",
    "a = (n * np.dot(x_, y_) - np.sum(x_) * np.sum(y_)) / (n * np.sum(x_ ** 2) - np.sum(x_) ** 2)\n",
    "b = (np.sum(y_) - a * np.sum(x_)) / n\n",
    "b"
   ]
  },
  {
   "cell_type": "code",
   "execution_count": 199,
   "metadata": {},
   "outputs": [],
   "source": [
    "df = pd.DataFrame({'name': ['Petr', 'Anna', 'a'] , 'city': ['Moscow' , 'Novosibirsk', 'N'], 'age': np.array([41.0, 28.0, 0])})"
   ]
  },
  {
   "cell_type": "code",
   "execution_count": 200,
   "metadata": {},
   "outputs": [
    {
     "name": "stdout",
     "output_type": "stream",
     "text": [
      "True\n"
     ]
    },
    {
     "name": "stderr",
     "output_type": "stream",
     "text": [
      "C:\\Users\\Nikita\\AppData\\Local\\Temp\\ipykernel_25396\\3626133385.py:3: SettingWithCopyWarning: \n",
      "A value is trying to be set on a copy of a slice from a DataFrame\n",
      "\n",
      "See the caveats in the documentation: https://pandas.pydata.org/pandas-docs/stable/user_guide/indexing.html#returning-a-view-versus-a-copy\n",
      "  df['age'][df['age'] == 0] = m\n"
     ]
    }
   ],
   "source": [
    "df.dropna().drop_duplicates(inplace=True)\n",
    "m = df['age'][df['age'] != 0].mean()\n",
    "df['age'][df['age'] == 0] = m\n",
    "print(df['age'].mean()==34.5)"
   ]
  }
 ],
 "metadata": {
  "kernelspec": {
   "display_name": "Python 3",
   "language": "python",
   "name": "python3"
  },
  "language_info": {
   "codemirror_mode": {
    "name": "ipython",
    "version": 3
   },
   "file_extension": ".py",
   "mimetype": "text/x-python",
   "name": "python",
   "nbconvert_exporter": "python",
   "pygments_lexer": "ipython3",
   "version": "3.11.2"
  }
 },
 "nbformat": 4,
 "nbformat_minor": 2
}
