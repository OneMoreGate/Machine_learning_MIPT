{
 "cells": [
  {
   "cell_type": "code",
   "execution_count": 133,
   "metadata": {},
   "outputs": [],
   "source": [
    "import pandas as pd\n",
    "import numpy as np\n",
    "import matplotlib.pyplot as plt\n",
    "import datetime as dt"
   ]
  },
  {
   "cell_type": "code",
   "execution_count": 134,
   "metadata": {},
   "outputs": [
    {
     "data": {
      "text/html": [
       "<div>\n",
       "<style scoped>\n",
       "    .dataframe tbody tr th:only-of-type {\n",
       "        vertical-align: middle;\n",
       "    }\n",
       "\n",
       "    .dataframe tbody tr th {\n",
       "        vertical-align: top;\n",
       "    }\n",
       "\n",
       "    .dataframe thead th {\n",
       "        text-align: right;\n",
       "    }\n",
       "</style>\n",
       "<table border=\"1\" class=\"dataframe\">\n",
       "  <thead>\n",
       "    <tr style=\"text-align: right;\">\n",
       "      <th></th>\n",
       "      <th>Time</th>\n",
       "      <th>T</th>\n",
       "      <th>Po</th>\n",
       "      <th>P</th>\n",
       "      <th>Pa</th>\n",
       "      <th>U</th>\n",
       "      <th>DD</th>\n",
       "      <th>Ff</th>\n",
       "      <th>ff10</th>\n",
       "      <th>ff3</th>\n",
       "      <th>...</th>\n",
       "      <th>Cm</th>\n",
       "      <th>Ch</th>\n",
       "      <th>VV</th>\n",
       "      <th>Td</th>\n",
       "      <th>RRR</th>\n",
       "      <th>tR</th>\n",
       "      <th>E</th>\n",
       "      <th>Tg</th>\n",
       "      <th>E'</th>\n",
       "      <th>sss</th>\n",
       "    </tr>\n",
       "  </thead>\n",
       "  <tbody>\n",
       "    <tr>\n",
       "      <th>0</th>\n",
       "      <td>31.12.2022 21:00</td>\n",
       "      <td>1.1</td>\n",
       "      <td>752.6</td>\n",
       "      <td>764.7</td>\n",
       "      <td>1.3</td>\n",
       "      <td>96.0</td>\n",
       "      <td>Ветер, дующий с западо-северо-запада</td>\n",
       "      <td>6.0</td>\n",
       "      <td>NaN</td>\n",
       "      <td>NaN</td>\n",
       "      <td>...</td>\n",
       "      <td>NaN</td>\n",
       "      <td>NaN</td>\n",
       "      <td>10.0</td>\n",
       "      <td>0.5</td>\n",
       "      <td>NaN</td>\n",
       "      <td>NaN</td>\n",
       "      <td>NaN</td>\n",
       "      <td>NaN</td>\n",
       "      <td>NaN</td>\n",
       "      <td>NaN</td>\n",
       "    </tr>\n",
       "    <tr>\n",
       "      <th>1</th>\n",
       "      <td>31.12.2022 18:00</td>\n",
       "      <td>1.4</td>\n",
       "      <td>751.3</td>\n",
       "      <td>763.3</td>\n",
       "      <td>1.8</td>\n",
       "      <td>89.0</td>\n",
       "      <td>Ветер, дующий с запада</td>\n",
       "      <td>6.0</td>\n",
       "      <td>NaN</td>\n",
       "      <td>NaN</td>\n",
       "      <td>...</td>\n",
       "      <td>NaN</td>\n",
       "      <td>NaN</td>\n",
       "      <td>10.0</td>\n",
       "      <td>-0.2</td>\n",
       "      <td>3.0</td>\n",
       "      <td>12.0</td>\n",
       "      <td>NaN</td>\n",
       "      <td>NaN</td>\n",
       "      <td>NaN</td>\n",
       "      <td>NaN</td>\n",
       "    </tr>\n",
       "    <tr>\n",
       "      <th>2</th>\n",
       "      <td>31.12.2022 15:00</td>\n",
       "      <td>1.4</td>\n",
       "      <td>749.5</td>\n",
       "      <td>761.5</td>\n",
       "      <td>-0.2</td>\n",
       "      <td>94.0</td>\n",
       "      <td>Ветер, дующий с западо-юго-запада</td>\n",
       "      <td>5.0</td>\n",
       "      <td>NaN</td>\n",
       "      <td>NaN</td>\n",
       "      <td>...</td>\n",
       "      <td>Высокослоистые непросвечивающие или слоисто-до...</td>\n",
       "      <td>NaN</td>\n",
       "      <td>10.0</td>\n",
       "      <td>0.5</td>\n",
       "      <td>NaN</td>\n",
       "      <td>NaN</td>\n",
       "      <td>NaN</td>\n",
       "      <td>NaN</td>\n",
       "      <td>NaN</td>\n",
       "      <td>NaN</td>\n",
       "    </tr>\n",
       "    <tr>\n",
       "      <th>3</th>\n",
       "      <td>31.12.2022 12:00</td>\n",
       "      <td>1.7</td>\n",
       "      <td>749.7</td>\n",
       "      <td>761.6</td>\n",
       "      <td>0.2</td>\n",
       "      <td>93.0</td>\n",
       "      <td>Ветер, дующий с западо-юго-запада</td>\n",
       "      <td>4.0</td>\n",
       "      <td>NaN</td>\n",
       "      <td>NaN</td>\n",
       "      <td>...</td>\n",
       "      <td>NaN</td>\n",
       "      <td>NaN</td>\n",
       "      <td>10.0</td>\n",
       "      <td>0.6</td>\n",
       "      <td>NaN</td>\n",
       "      <td>NaN</td>\n",
       "      <td>NaN</td>\n",
       "      <td>NaN</td>\n",
       "      <td>NaN</td>\n",
       "      <td>NaN</td>\n",
       "    </tr>\n",
       "    <tr>\n",
       "      <th>4</th>\n",
       "      <td>31.12.2022 09:00</td>\n",
       "      <td>1.2</td>\n",
       "      <td>749.5</td>\n",
       "      <td>761.5</td>\n",
       "      <td>-0.3</td>\n",
       "      <td>96.0</td>\n",
       "      <td>Ветер, дующий с юго-запада</td>\n",
       "      <td>5.0</td>\n",
       "      <td>NaN</td>\n",
       "      <td>NaN</td>\n",
       "      <td>...</td>\n",
       "      <td>Высокослоистые непросвечивающие или слоисто-до...</td>\n",
       "      <td>NaN</td>\n",
       "      <td>7.0</td>\n",
       "      <td>0.6</td>\n",
       "      <td>NaN</td>\n",
       "      <td>NaN</td>\n",
       "      <td>NaN</td>\n",
       "      <td>NaN</td>\n",
       "      <td>NaN</td>\n",
       "      <td>NaN</td>\n",
       "    </tr>\n",
       "  </tbody>\n",
       "</table>\n",
       "<p>5 rows × 29 columns</p>\n",
       "</div>"
      ],
      "text/plain": [
       "               Time    T     Po      P   Pa     U  \\\n",
       "0  31.12.2022 21:00  1.1  752.6  764.7  1.3  96.0   \n",
       "1  31.12.2022 18:00  1.4  751.3  763.3  1.8  89.0   \n",
       "2  31.12.2022 15:00  1.4  749.5  761.5 -0.2  94.0   \n",
       "3  31.12.2022 12:00  1.7  749.7  761.6  0.2  93.0   \n",
       "4  31.12.2022 09:00  1.2  749.5  761.5 -0.3  96.0   \n",
       "\n",
       "                                     DD   Ff  ff10  ff3  ...  \\\n",
       "0  Ветер, дующий с западо-северо-запада  6.0   NaN  NaN  ...   \n",
       "1                Ветер, дующий с запада  6.0   NaN  NaN  ...   \n",
       "2     Ветер, дующий с западо-юго-запада  5.0   NaN  NaN  ...   \n",
       "3     Ветер, дующий с западо-юго-запада  4.0   NaN  NaN  ...   \n",
       "4            Ветер, дующий с юго-запада  5.0   NaN  NaN  ...   \n",
       "\n",
       "                                                  Cm   Ch    VV   Td  RRR  \\\n",
       "0                                                NaN  NaN  10.0  0.5  NaN   \n",
       "1                                                NaN  NaN  10.0 -0.2  3.0   \n",
       "2  Высокослоистые непросвечивающие или слоисто-до...  NaN  10.0  0.5  NaN   \n",
       "3                                                NaN  NaN  10.0  0.6  NaN   \n",
       "4  Высокослоистые непросвечивающие или слоисто-до...  NaN   7.0  0.6  NaN   \n",
       "\n",
       "     tR    E  Tg   E'  sss  \n",
       "0   NaN  NaN NaN  NaN  NaN  \n",
       "1  12.0  NaN NaN  NaN  NaN  \n",
       "2   NaN  NaN NaN  NaN  NaN  \n",
       "3   NaN  NaN NaN  NaN  NaN  \n",
       "4   NaN  NaN NaN  NaN  NaN  \n",
       "\n",
       "[5 rows x 29 columns]"
      ]
     },
     "execution_count": 134,
     "metadata": {},
     "output_type": "execute_result"
    }
   ],
   "source": [
    "df = pd.read_csv('tambov.csv', sep=';', comment='#', index_col=False, low_memory=False)\n",
    "df.rename(columns={f'{df.columns[0]}' : 'Time'}, inplace=True)\n",
    "df.head()"
   ]
  },
  {
   "cell_type": "code",
   "execution_count": 135,
   "metadata": {},
   "outputs": [],
   "source": [
    "df['Time'] = np.array([dt.datetime.strptime(i, '%d.%m.%Y %H:%M') for i in df['Time']])"
   ]
  },
  {
   "cell_type": "code",
   "execution_count": 154,
   "metadata": {},
   "outputs": [
    {
     "data": {
      "text/plain": [
       "array(['Ветер, дующий с западо-северо-запада', 'Ветер, дующий с запада',\n",
       "       'Ветер, дующий с западо-юго-запада', 'Ветер, дующий с юго-запада',\n",
       "       'Ветер, дующий с юга', 'Ветер, дующий с юго-юго-запада',\n",
       "       'Ветер, дующий с юго-востока',\n",
       "       'Ветер, дующий с востоко-юго-востока', 'Ветер, дующий с востока',\n",
       "       'Ветер, дующий с востоко-северо-востока',\n",
       "       'Ветер, дующий с северо-северо-востока',\n",
       "       'Ветер, дующий с северо-востока',\n",
       "       'Ветер, дующий с северо-северо-запада', 'Ветер, дующий с севера',\n",
       "       'Ветер, дующий с юго-юго-востока', 'Штиль, безветрие',\n",
       "       'Ветер, дующий с северо-запада', 'Переменное направление', nan],\n",
       "      dtype=object)"
      ]
     },
     "execution_count": 154,
     "metadata": {},
     "output_type": "execute_result"
    }
   ],
   "source": [
    "df['DD'].unique()"
   ]
  },
  {
   "cell_type": "code",
   "execution_count": 157,
   "metadata": {},
   "outputs": [
    {
     "data": {
      "text/plain": [
       "Text(0.5, 1.0, 'Ветер, дующий с запада')"
      ]
     },
     "execution_count": 157,
     "metadata": {},
     "output_type": "execute_result"
    },
    {
     "data": {
      "image/png": "[encoded data removed]",
      "text/plain": [
       "<Figure size 640x480 with 1 Axes>"
      ]
     },
     "metadata": {},
     "output_type": "display_data"
    }
   ],
   "source": [
    "sub = df.loc[:,['T', 'Po']][df['DD'] == df['DD'].unique()[1]].dropna()\n",
    "plt.scatter(sub['Po'], sub['T'], s=1)\n",
    "plt.title(df['DD'].unique()[1])"
   ]
  }
 ],
 "metadata": {
  "kernelspec": {
   "display_name": "Python 3",
   "language": "python",
   "name": "python3"
  },
  "language_info": {
   "codemirror_mode": {
    "name": "ipython",
    "version": 3
   },
   "file_extension": ".py",
   "mimetype": "text/x-python",
   "name": "python",
   "nbconvert_exporter": "python",
   "pygments_lexer": "ipython3",
   "version": "3.11.2"
  },
  "orig_nbformat": 4
 },
 "nbformat": 4,
 "nbformat_minor": 2
}
