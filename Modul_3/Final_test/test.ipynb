{
 "cells": [
  {
   "cell_type": "code",
   "execution_count": 10,
   "metadata": {},
   "outputs": [
    {
     "data": {
      "text/plain": [
       "array([ 1.,  2.,  3., 37.])"
      ]
     },
     "execution_count": 10,
     "metadata": {},
     "output_type": "execute_result"
    }
   ],
   "source": [
    "import numpy as np\n",
    "from sklearn.linear_model import LinearRegression\n",
    "\n",
    "#Данные для обучения\n",
    "X = np.array([[1, 1, 1], [1, 2, 2], [2, 2, 3], [2, 3, 5]])\n",
    "\n",
    "#Значения функции\n",
    "y = np.array([9, 14, 18, 26])\n",
    "\n",
    "#Значение переменных для прогноза функции y_pred\n",
    "X_pred = np.array([[3, 5, 7]])\n",
    "\n",
    "#Далее запишите ваш код\n",
    "reg = LinearRegression()\n",
    "reg.fit(X, y)\n",
    "\n",
    "y_pred = reg.predict(X_pred)\n",
    "a, b, c = reg.coef_\n",
    "answer = np.array([a,b,c,y_pred[0]])\n"
   ]
  },
  {
   "cell_type": "code",
   "execution_count": 12,
   "metadata": {},
   "outputs": [
    {
     "data": {
      "text/plain": [
       "array([14])"
      ]
     },
     "execution_count": 12,
     "metadata": {},
     "output_type": "execute_result"
    }
   ],
   "source": [
    "#Здесь будет выполнена генерация данных для модели\n",
    "#Данный код будет автоматически выполнен при запуске вашей программы\n",
    "\n",
    "import numpy as np\n",
    "from sklearn.linear_model import LogisticRegression\n",
    "from sklearn.metrics import f1_score\n",
    "from sklearn.model_selection import train_test_split\n",
    "\n",
    "from sklearn.linear_model import LogisticRegression\n",
    "x_train, x_test, y_train, y_test = train_test_split(X, y, test_size=0.25, random_state=0)\n",
    "\n",
    "#Далее запишите ваш код\n",
    "\n",
    "model = LogisticRegression()\n",
    "model.fit(x_train, y_train)\n",
    "y_pred = model.predict(x_test)"
   ]
  }
 ],
 "metadata": {
  "kernelspec": {
   "display_name": "Python 3",
   "language": "python",
   "name": "python3"
  },
  "language_info": {
   "codemirror_mode": {
    "name": "ipython",
    "version": 3
   },
   "file_extension": ".py",
   "mimetype": "text/x-python",
   "name": "python",
   "nbconvert_exporter": "python",
   "pygments_lexer": "ipython3",
   "version": "3.11.2"
  }
 },
 "nbformat": 4,
 "nbformat_minor": 2
}
